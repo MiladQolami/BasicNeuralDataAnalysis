{
  "nbformat": 4,
  "nbformat_minor": 0,
  "metadata": {
    "colab": {
      "provenance": [],
      "authorship_tag": "ABX9TyNteNAAn7UTomNW6UiliSK+",
      "include_colab_link": true
    },
    "kernelspec": {
      "name": "python3",
      "display_name": "Python 3"
    },
    "language_info": {
      "name": "python"
    }
  },
  "cells": [
    {
      "cell_type": "markdown",
      "metadata": {
        "id": "view-in-github",
        "colab_type": "text"
      },
      "source": [
        "<a href=\"https://colab.research.google.com/github/MiladQolami/Neural-Data-Analysis/blob/main/SpikingVariablity/SpikingVariablity.ipynb\" target=\"_parent\"><img src=\"https://colab.research.google.com/assets/colab-badge.svg\" alt=\"Open In Colab\"/></a>"
      ]
    },
    {
      "cell_type": "markdown",
      "source": [
        "# ⭕ spiking variablity\n",
        "\n",
        "---\n",
        "\n",
        "\n",
        "\n",
        "\n",
        "\n",
        "\n",
        "\n",
        "\n",
        "\n"
      ],
      "metadata": {
        "id": "e8zLg6CRdkeE"
      }
    },
    {
      "cell_type": "markdown",
      "source": [
        "## Irigularity of inter-spike-interval (ISI)"
      ],
      "metadata": {
        "id": "ywpBGO1iKiNJ"
      }
    },
    {
      "cell_type": "markdown",
      "source": [
        "\n",
        "## Trial-to-tiral variablity\n",
        "\n",
        "\n",
        "\n"
      ],
      "metadata": {
        "id": "Iy1LUEl1eOgO"
      }
    },
    {
      "cell_type": "markdown",
      "source": [
        "## Spike count corelation"
      ],
      "metadata": {
        "id": "Ljcyyo4oqlft"
      }
    }
  ]
}