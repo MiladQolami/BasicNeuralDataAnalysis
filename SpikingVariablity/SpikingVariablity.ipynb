{
  "nbformat": 4,
  "nbformat_minor": 0,
  "metadata": {
    "colab": {
      "provenance": [],
      "authorship_tag": "ABX9TyPUZBuNL3qfVwpNxPdeJ5ii",
      "include_colab_link": true
    },
    "kernelspec": {
      "name": "python3",
      "display_name": "Python 3"
    },
    "language_info": {
      "name": "python"
    }
  },
  "cells": [
    {
      "cell_type": "markdown",
      "metadata": {
        "id": "view-in-github",
        "colab_type": "text"
      },
      "source": [
        "<a href=\"https://colab.research.google.com/github/MiladQolami/Neural-Data-Analysis/blob/main/SpikingVariablity/SpikingVariablity.ipynb\" target=\"_parent\"><img src=\"https://colab.research.google.com/assets/colab-badge.svg\" alt=\"Open In Colab\"/></a>"
      ]
    },
    {
      "cell_type": "markdown",
      "source": [
        "# ⭕ spiking variablity\n",
        "\n",
        "---\n",
        "\n",
        "\n",
        "\n",
        "\n",
        "\n",
        "\n",
        "\n",
        "\n",
        "\n"
      ],
      "metadata": {
        "id": "e8zLg6CRdkeE"
      }
    },
    {
      "cell_type": "markdown",
      "source": [
        "### Dataset:\n",
        "The data for this notebook comes from recording form mouse brain by a Neuropixel probes while doing a visual discremination task.\n",
        "For more information see the paper [Steinmetz et.all, 2019](https://www.nature.com/articles/s41586-019-1787-x).\n",
        "\n",
        "Here we pick spiking response of some units in the primary visual cortex.\n"
      ],
      "metadata": {
        "id": "st68qKvN7ne5"
      }
    },
    {
      "cell_type": "code",
      "source": [
        "# @markdown Import libraries\n",
        "\n",
        "# Import pachages\n",
        "import os, requests\n",
        "import numpy as np\n",
        "import pandas as pd\n",
        "import matplotlib.pyplot as plt\n",
        "import os \n",
        "\n",
        "plt.rcParams['figure.figsize'] = [20,5]\n",
        "plt.rcParams['font.size'] = 15\n",
        "plt.rcParams['axes.spines.right'] = False\n",
        "plt.rcParams['axes.spines.top'] = False"
      ],
      "metadata": {
        "id": "YpEggdEy_PPb"
      },
      "execution_count": 1,
      "outputs": []
    },
    {
      "cell_type": "code",
      "execution_count": 60,
      "metadata": {
        "execution": {},
        "id": "f7udApSiMzgr"
      },
      "outputs": [],
      "source": [
        "# @title Data retrieval\n",
        "import os, requests\n",
        "\n",
        "fname = []\n",
        "for j in range(3):\n",
        "  fname.append('steinmetz_part%d.npz'%j)\n",
        "url = [\"https://osf.io/agvxh/download\"]\n",
        "url.append(\"https://osf.io/uv3mw/download\")\n",
        "url.append(\"https://osf.io/ehmw2/download\")\n",
        "\n",
        "for j in range(len(url)):\n",
        "  if not os.path.isfile(fname[j]):\n",
        "    try:\n",
        "      r = requests.get(url[j])\n",
        "    except requests.ConnectionError:\n",
        "      print(\"!!! Failed to download data !!!\")\n",
        "    else:\n",
        "      if r.status_code != requests.codes.ok:\n",
        "        print(\"!!! Failed to download data !!!\")\n",
        "      else:\n",
        "        with open(fname[j], \"wb\") as fid:\n",
        "          fid.write(r.content)"
      ]
    },
    {
      "cell_type": "code",
      "execution_count": null,
      "metadata": {
        "execution": {},
        "id": "SJJOjIamMzgs",
        "cellView": "form"
      },
      "outputs": [],
      "source": [
        "# @title Data loading\n",
        "all_data = np.array([])\n",
        "for j in range(len(fname)):\n",
        "  all_data = np.hstack((all_data,\n",
        "                      np.load('steinmetz_part%d.npz'%j,\n",
        "                              allow_pickle=True)['dat']))\n",
        "data = all_data[11] # We only choose session 11 for our analysis, according to author this session has several units in visual cortex"
      ]
    },
    {
      "cell_type": "markdown",
      "source": [
        "The whole dataset contains 39 sessions from 10 mice, data from Steinmetz et al, 2019. Time bins for all measurements are 10ms, starting 500ms before stimulus onset. The mouse had to determine which side has the highest contrast. We have picked just one session (session 11) and stored it in `data`, which is a ditionary with several fields. You can find them using the method `.keys()`. Some of them are as below:\n",
        "\n",
        "\n",
        "* `data['spks']`: neurons by trials by time bins.    \n",
        "* `data['brain_area']`: brain area for each neuron recorded. \n",
        "* `data['contrast_right']`: contrast level for the right stimulus, which is always contralateral to the recorded brain areas.\n",
        "* `data['contrast_left']`: contrast level for left stimulus. \n",
        "* `data['gocue']`: when the go cue sound was played. \n",
        "* `data['response_time']`: when the response was registered, which has to be after the go cue. The mouse can turn the wheel before the go cue (and nearly always does!), but the stimulus on the screen won't move before the go cue.  \n",
        "* `data['response']`: which side the response was (`-1`, `0`, `1`). When the right-side stimulus had higher contrast, the correct choice was `-1`. `0` is a no go response. \n",
        "* `data['feedback_time']`: when feedback was provided. \n",
        "* `data['feedback_type']`: if the feedback was positive (`+1`, reward) or negative (`-1`, white noise burst).  \n",
        "* `data['wheel']`: turning speed of the wheel that the mice uses to make a response, sampled at `10ms`. \n",
        "* `data['pupil']`: pupil area  (noisy, because pupil is very small) + pupil horizontal and vertical position.\n",
        "\n",
        "* `data['reaction_time']`: ntrials by 2. First column: reaction time computed from the wheel movement as the first sample above `5` ticks/10ms bin. Second column: direction of the wheel movement (`0` = no move detected).  \n",
        "\n"
      ],
      "metadata": {
        "id": "2QJ8GvbehI8P"
      }
    },
    {
      "cell_type": "markdown",
      "source": [
        "**First of all visualization**"
      ],
      "metadata": {
        "id": "iouZUZ4qM58H"
      }
    },
    {
      "cell_type": "code",
      "source": [
        "# @markdown Run this cell several times to see raster plot of different neuron in this session\n",
        "# Raster plot of random neuron \n",
        "neuron_n = data['spks'].shape[0]        # Number of neuron in this plot\n",
        "random_neuron = np.random.random_integers(neuron_n)     # Pick a random neuron\n",
        "fig, ax = plt.subplots()\n",
        "for trial_i in range(data['spks'][random_neuron].shape[0]):\n",
        "  ax.vlines(np.argwhere(data['spks'][random_neuron][trial_i,:]),trial_i,trial_i +1)\n",
        "ax.vlines(50,0,data['spks'][random_neuron].shape[0],linestyles='dashed',color = 'red')\n",
        "ax.set(xlabel = 'Time bins', ylabel = \"Number ot trials\",title=f'Raster plot of neuron {random_neuron}')\n",
        "plt.text(50 - 10,trial_i+5,'stimulus onset')\n",
        "plt.show()\n"
      ],
      "metadata": {
        "cellView": "form",
        "id": "4uY1mv2NBV0J",
        "outputId": "4bf4d232-322c-40a8-98cb-6f90c4717f7b",
        "colab": {
          "base_uri": "https://localhost:8080/",
          "height": 399
        }
      },
      "execution_count": 147,
      "outputs": [
        {
          "output_type": "stream",
          "name": "stderr",
          "text": [
            "<ipython-input-147-3e3d0bc43410>:4: DeprecationWarning: This function is deprecated. Please call randint(1, 698 + 1) instead\n",
            "  random_neuron = np.random.random_integers(neuron_n)     # Pick a random neuron\n"
          ]
        },
        {
          "output_type": "display_data",
          "data": {
            "text/plain": [
              "<Figure size 1440x360 with 1 Axes>"
            ],
            "image/png": "[encoded data removed]"
          },
          "metadata": {
            "needs_background": "light"
          }
        }
      ]
    },
    {
      "cell_type": "code",
      "source": [
        "data['brain_area']."
      ],
      "metadata": {
        "id": "zvLWhA4nErQF",
        "outputId": "87430514-329e-4c8d-8c09-23061ff17102",
        "colab": {
          "base_uri": "https://localhost:8080/"
        }
      },
      "execution_count": 53,
      "outputs": [
        {
          "output_type": "execute_result",
          "data": {
            "text/plain": [
              "(1070,)"
            ]
          },
          "metadata": {},
          "execution_count": 53
        }
      ]
    },
    {
      "cell_type": "markdown",
      "source": [
        "Now our spiking data is saved in the `data` which is numpy array. The structure of the data is neuron by trial so we have 698 neuron in this session and 340 trials.Time bins are 10 ms. Spike times are relative to stimulus onset."
      ],
      "metadata": {
        "id": "4RHuXhNUb1CD"
      }
    },
    {
      "cell_type": "code",
      "source": [
        "visual_cortex = [\"VISa\", \"VISam\", \"VISl\", \"VISp\", \"VISpm\", \"VISrl\"]  # visual cortex\n",
        "hippocampus =  [\"CA\", \"CA1\", \"CA2\", \"CA3\", \"DG\", \"SUB\", \"POST\"],  # hippocampal"
      ],
      "metadata": {
        "id": "qoD_7KgakDKo"
      },
      "execution_count": 7,
      "outputs": []
    },
    {
      "cell_type": "code",
      "source": [
        "idx = np.isin(data['brain_area'],visual_cortex)   # indices for visual cortex regions\n",
        "new_data = data['spks'][idx]                     # Only spikes for visual cortex"
      ],
      "metadata": {
        "id": "SYcJ21gIlIus"
      },
      "execution_count": null,
      "outputs": []
    },
    {
      "cell_type": "markdown",
      "source": [
        "## Irigularity of inter-spike-interval (ISI)"
      ],
      "metadata": {
        "id": "ywpBGO1iKiNJ"
      }
    },
    {
      "cell_type": "markdown",
      "source": [
        "\n",
        "## Trial-to-tiral variablity\n",
        "\n",
        "\n",
        "\n"
      ],
      "metadata": {
        "id": "Iy1LUEl1eOgO"
      }
    },
    {
      "cell_type": "markdown",
      "source": [
        "## Spike count corelation"
      ],
      "metadata": {
        "id": "Ljcyyo4oqlft"
      }
    }
  ]
}