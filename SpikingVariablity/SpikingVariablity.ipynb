{
  "nbformat": 4,
  "nbformat_minor": 0,
  "metadata": {
    "colab": {
      "provenance": [],
      "authorship_tag": "ABX9TyOiy/Jsx+RGVBN65G3uDOAv",
      "include_colab_link": true
    },
    "kernelspec": {
      "name": "python3",
      "display_name": "Python 3"
    },
    "language_info": {
      "name": "python"
    }
  },
  "cells": [
    {
      "cell_type": "markdown",
      "metadata": {
        "id": "view-in-github",
        "colab_type": "text"
      },
      "source": [
        "<a href=\"https://colab.research.google.com/github/MiladQolami/Neural-Data-Analysis/blob/main/SpikingVariablity/SpikingVariablity.ipynb\" target=\"_parent\"><img src=\"https://colab.research.google.com/assets/colab-badge.svg\" alt=\"Open In Colab\"/></a>"
      ]
    },
    {
      "cell_type": "markdown",
      "source": [
        "# ⭕ spiking variablity\n",
        "\n",
        "---\n",
        "\n",
        "\n",
        "\n",
        "\n",
        "\n",
        "\n",
        "\n",
        "\n",
        "\n"
      ],
      "metadata": {
        "id": "e8zLg6CRdkeE"
      }
    },
    {
      "cell_type": "markdown",
      "source": [
        "### Dataset:\n",
        "The data for this notebook comes from [Allen Institute's Visual Coding – Neuropixels project](https://allensdk.readthedocs.io/en/latest/visual_coding_neuropixels.html) which is an open dataset. In this project spikes were recorded from several regions of mouse brian. The dataset is huge so we just upload small proportion of it: spike form mouse V1 in response to full-field flashes of light/dark."
      ],
      "metadata": {
        "id": "st68qKvN7ne5"
      }
    },
    {
      "cell_type": "code",
      "source": [
        "# @markdown Install packages and import libraries\n",
        "!pip install allensdk       # install allensdk, a module for\n",
        "                            # accessing and processing Allen institute datasets\n",
        "\n",
        "# Import pachages\n",
        "import numpy as np\n",
        "import pandas as pd\n",
        "import matplotlib.pyplot as plt\n",
        "import os \n",
        "\n",
        "# Import EcephysProjectCache from allensdk\n",
        "from allensdk.brain_observatory.ecephys.ecephys_project_cache import EcephysProjectCache\n",
        "\n",
        "plt.rcParams['figure.figsize'] = [20,5]\n",
        "plt.rcParams['font.size'] = 15\n",
        "plt.rcParams['axes.spines.right'] = False\n",
        "plt.rcParams['axes.spines.top'] = False"
      ],
      "metadata": {
        "id": "YpEggdEy_PPb"
      },
      "execution_count": 72,
      "outputs": []
    },
    {
      "cell_type": "code",
      "source": [
        "dat_dir = '/sampl_data/allen_data'       # Create a directory for data on disk\n",
        "manifest_path = os.path.join(dat_dir,'manifest.json')\n",
        "\n",
        "cach = EcephysProjectCache.from_warehouse(manifest = manifest_path)"
      ],
      "metadata": {
        "id": "xBvhfqv0J13s"
      },
      "execution_count": 17,
      "outputs": []
    },
    {
      "cell_type": "code",
      "source": [
        "sessions = cach.get_session_table()    # Get the table of data information\n",
        "brain_observatory_type_sessions = sessions[sessions['session_type'] == 'brain_observatory_1.1'] # Pick those sessions where 'brain_observatory_1.1' sequence of stimuli where presented\n",
        "session_id = brain_observatory_type_sessions.index[10]      # Pick an arbitrary session id\n",
        "session_data = cach.get_session_data(session_id)\n"
      ],
      "metadata": {
        "id": "KCy-6O2fRjtN"
      },
      "execution_count": 38,
      "outputs": []
    },
    {
      "cell_type": "code",
      "source": [
        "VIsp_units = session_data.units.structure_acronym\n"
      ],
      "metadata": {
        "id": "-bIR3YFFW7KH",
        "outputId": "31f40411-15b2-477c-fe44-f10ac4c23819",
        "colab": {
          "base_uri": "https://localhost:8080/"
        }
      },
      "execution_count": 78,
      "outputs": [
        {
          "output_type": "execute_result",
          "data": {
            "text/plain": [
              "unit_id\n",
              "951817231     grey\n",
              "951817222     grey\n",
              "951817272     grey\n",
              "951817282     grey\n",
              "951817316     grey\n",
              "             ...  \n",
              "951824056    VISrl\n",
              "951824038    VISrl\n",
              "951824153    VISrl\n",
              "951824594    VISrl\n",
              "951824201    VISrl\n",
              "Name: structure_acronym, Length: 902, dtype: object"
            ]
          },
          "metadata": {},
          "execution_count": 78
        }
      ]
    },
    {
      "cell_type": "markdown",
      "source": [
        "## Irigularity of inter-spike-interval (ISI)"
      ],
      "metadata": {
        "id": "ywpBGO1iKiNJ"
      }
    },
    {
      "cell_type": "markdown",
      "source": [
        "\n",
        "## Trial-to-tiral variablity\n",
        "\n",
        "\n",
        "\n"
      ],
      "metadata": {
        "id": "Iy1LUEl1eOgO"
      }
    },
    {
      "cell_type": "markdown",
      "source": [
        "## Spike count corelation"
      ],
      "metadata": {
        "id": "Ljcyyo4oqlft"
      }
    }
  ]
}