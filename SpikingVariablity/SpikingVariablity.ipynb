{
  "nbformat": 4,
  "nbformat_minor": 0,
  "metadata": {
    "colab": {
      "provenance": [],
      "authorship_tag": "ABX9TyMsUIm540dsVFkaG1uQJp1u",
      "include_colab_link": true
    },
    "kernelspec": {
      "name": "python3",
      "display_name": "Python 3"
    },
    "language_info": {
      "name": "python"
    },
    "widgets": {
      "application/vnd.jupyter.widget-state+json": {
        "53033b3b0c21455d9f44d3e8c4af9ca9": {
          "model_module": "@jupyter-widgets/controls",
          "model_name": "HBoxModel",
          "model_module_version": "1.5.0",
          "state": {
            "_dom_classes": [],
            "_model_module": "@jupyter-widgets/controls",
            "_model_module_version": "1.5.0",
            "_model_name": "HBoxModel",
            "_view_count": null,
            "_view_module": "@jupyter-widgets/controls",
            "_view_module_version": "1.5.0",
            "_view_name": "HBoxView",
            "box_style": "",
            "children": [
              "IPY_MODEL_e166bd7bfbeb4b4abf1cea3f64b5d033",
              "IPY_MODEL_82473d6c94e449f5b991adf0c2e98063",
              "IPY_MODEL_feef70227e28479386bf79eeaeb5a17e"
            ],
            "layout": "IPY_MODEL_1dfb5ae396f54ebdaa1897d8a2b25617"
          }
        },
        "e166bd7bfbeb4b4abf1cea3f64b5d033": {
          "model_module": "@jupyter-widgets/controls",
          "model_name": "HTMLModel",
          "model_module_version": "1.5.0",
          "state": {
            "_dom_classes": [],
            "_model_module": "@jupyter-widgets/controls",
            "_model_module_version": "1.5.0",
            "_model_name": "HTMLModel",
            "_view_count": null,
            "_view_module": "@jupyter-widgets/controls",
            "_view_module_version": "1.5.0",
            "_view_name": "HTMLView",
            "description": "",
            "description_tooltip": null,
            "layout": "IPY_MODEL_029d0b986a4843d68ee44d1d71c4bc57",
            "placeholder": "​",
            "style": "IPY_MODEL_3a3418a12c7f4a789761caf03374d079",
            "value": "Downloading: 100%"
          }
        },
        "82473d6c94e449f5b991adf0c2e98063": {
          "model_module": "@jupyter-widgets/controls",
          "model_name": "FloatProgressModel",
          "model_module_version": "1.5.0",
          "state": {
            "_dom_classes": [],
            "_model_module": "@jupyter-widgets/controls",
            "_model_module_version": "1.5.0",
            "_model_name": "FloatProgressModel",
            "_view_count": null,
            "_view_module": "@jupyter-widgets/controls",
            "_view_module_version": "1.5.0",
            "_view_name": "ProgressView",
            "bar_style": "success",
            "description": "",
            "description_tooltip": null,
            "layout": "IPY_MODEL_bdd62904538d4381afa8a352ad545a83",
            "max": 3073327756,
            "min": 0,
            "orientation": "horizontal",
            "style": "IPY_MODEL_81e017241a67443e9a10a895e186b3b1",
            "value": 3073327756
          }
        },
        "feef70227e28479386bf79eeaeb5a17e": {
          "model_module": "@jupyter-widgets/controls",
          "model_name": "HTMLModel",
          "model_module_version": "1.5.0",
          "state": {
            "_dom_classes": [],
            "_model_module": "@jupyter-widgets/controls",
            "_model_module_version": "1.5.0",
            "_model_name": "HTMLModel",
            "_view_count": null,
            "_view_module": "@jupyter-widgets/controls",
            "_view_module_version": "1.5.0",
            "_view_name": "HTMLView",
            "description": "",
            "description_tooltip": null,
            "layout": "IPY_MODEL_433f42ffeecb4f8a936683c5b2f47aac",
            "placeholder": "​",
            "style": "IPY_MODEL_421dcbecc84f46b9b8f430fecab0012b",
            "value": " 3.07G/3.07G [04:03&lt;00:00, 12.3MB/s]"
          }
        },
        "1dfb5ae396f54ebdaa1897d8a2b25617": {
          "model_module": "@jupyter-widgets/base",
          "model_name": "LayoutModel",
          "model_module_version": "1.2.0",
          "state": {
            "_model_module": "@jupyter-widgets/base",
            "_model_module_version": "1.2.0",
            "_model_name": "LayoutModel",
            "_view_count": null,
            "_view_module": "@jupyter-widgets/base",
            "_view_module_version": "1.2.0",
            "_view_name": "LayoutView",
            "align_content": null,
            "align_items": null,
            "align_self": null,
            "border": null,
            "bottom": null,
            "display": null,
            "flex": null,
            "flex_flow": null,
            "grid_area": null,
            "grid_auto_columns": null,
            "grid_auto_flow": null,
            "grid_auto_rows": null,
            "grid_column": null,
            "grid_gap": null,
            "grid_row": null,
            "grid_template_areas": null,
            "grid_template_columns": null,
            "grid_template_rows": null,
            "height": null,
            "justify_content": null,
            "justify_items": null,
            "left": null,
            "margin": null,
            "max_height": null,
            "max_width": null,
            "min_height": null,
            "min_width": null,
            "object_fit": null,
            "object_position": null,
            "order": null,
            "overflow": null,
            "overflow_x": null,
            "overflow_y": null,
            "padding": null,
            "right": null,
            "top": null,
            "visibility": null,
            "width": null
          }
        },
        "029d0b986a4843d68ee44d1d71c4bc57": {
          "model_module": "@jupyter-widgets/base",
          "model_name": "LayoutModel",
          "model_module_version": "1.2.0",
          "state": {
            "_model_module": "@jupyter-widgets/base",
            "_model_module_version": "1.2.0",
            "_model_name": "LayoutModel",
            "_view_count": null,
            "_view_module": "@jupyter-widgets/base",
            "_view_module_version": "1.2.0",
            "_view_name": "LayoutView",
            "align_content": null,
            "align_items": null,
            "align_self": null,
            "border": null,
            "bottom": null,
            "display": null,
            "flex": null,
            "flex_flow": null,
            "grid_area": null,
            "grid_auto_columns": null,
            "grid_auto_flow": null,
            "grid_auto_rows": null,
            "grid_column": null,
            "grid_gap": null,
            "grid_row": null,
            "grid_template_areas": null,
            "grid_template_columns": null,
            "grid_template_rows": null,
            "height": null,
            "justify_content": null,
            "justify_items": null,
            "left": null,
            "margin": null,
            "max_height": null,
            "max_width": null,
            "min_height": null,
            "min_width": null,
            "object_fit": null,
            "object_position": null,
            "order": null,
            "overflow": null,
            "overflow_x": null,
            "overflow_y": null,
            "padding": null,
            "right": null,
            "top": null,
            "visibility": null,
            "width": null
          }
        },
        "3a3418a12c7f4a789761caf03374d079": {
          "model_module": "@jupyter-widgets/controls",
          "model_name": "DescriptionStyleModel",
          "model_module_version": "1.5.0",
          "state": {
            "_model_module": "@jupyter-widgets/controls",
            "_model_module_version": "1.5.0",
            "_model_name": "DescriptionStyleModel",
            "_view_count": null,
            "_view_module": "@jupyter-widgets/base",
            "_view_module_version": "1.2.0",
            "_view_name": "StyleView",
            "description_width": ""
          }
        },
        "bdd62904538d4381afa8a352ad545a83": {
          "model_module": "@jupyter-widgets/base",
          "model_name": "LayoutModel",
          "model_module_version": "1.2.0",
          "state": {
            "_model_module": "@jupyter-widgets/base",
            "_model_module_version": "1.2.0",
            "_model_name": "LayoutModel",
            "_view_count": null,
            "_view_module": "@jupyter-widgets/base",
            "_view_module_version": "1.2.0",
            "_view_name": "LayoutView",
            "align_content": null,
            "align_items": null,
            "align_self": null,
            "border": null,
            "bottom": null,
            "display": null,
            "flex": null,
            "flex_flow": null,
            "grid_area": null,
            "grid_auto_columns": null,
            "grid_auto_flow": null,
            "grid_auto_rows": null,
            "grid_column": null,
            "grid_gap": null,
            "grid_row": null,
            "grid_template_areas": null,
            "grid_template_columns": null,
            "grid_template_rows": null,
            "height": null,
            "justify_content": null,
            "justify_items": null,
            "left": null,
            "margin": null,
            "max_height": null,
            "max_width": null,
            "min_height": null,
            "min_width": null,
            "object_fit": null,
            "object_position": null,
            "order": null,
            "overflow": null,
            "overflow_x": null,
            "overflow_y": null,
            "padding": null,
            "right": null,
            "top": null,
            "visibility": null,
            "width": null
          }
        },
        "81e017241a67443e9a10a895e186b3b1": {
          "model_module": "@jupyter-widgets/controls",
          "model_name": "ProgressStyleModel",
          "model_module_version": "1.5.0",
          "state": {
            "_model_module": "@jupyter-widgets/controls",
            "_model_module_version": "1.5.0",
            "_model_name": "ProgressStyleModel",
            "_view_count": null,
            "_view_module": "@jupyter-widgets/base",
            "_view_module_version": "1.2.0",
            "_view_name": "StyleView",
            "bar_color": null,
            "description_width": ""
          }
        },
        "433f42ffeecb4f8a936683c5b2f47aac": {
          "model_module": "@jupyter-widgets/base",
          "model_name": "LayoutModel",
          "model_module_version": "1.2.0",
          "state": {
            "_model_module": "@jupyter-widgets/base",
            "_model_module_version": "1.2.0",
            "_model_name": "LayoutModel",
            "_view_count": null,
            "_view_module": "@jupyter-widgets/base",
            "_view_module_version": "1.2.0",
            "_view_name": "LayoutView",
            "align_content": null,
            "align_items": null,
            "align_self": null,
            "border": null,
            "bottom": null,
            "display": null,
            "flex": null,
            "flex_flow": null,
            "grid_area": null,
            "grid_auto_columns": null,
            "grid_auto_flow": null,
            "grid_auto_rows": null,
            "grid_column": null,
            "grid_gap": null,
            "grid_row": null,
            "grid_template_areas": null,
            "grid_template_columns": null,
            "grid_template_rows": null,
            "height": null,
            "justify_content": null,
            "justify_items": null,
            "left": null,
            "margin": null,
            "max_height": null,
            "max_width": null,
            "min_height": null,
            "min_width": null,
            "object_fit": null,
            "object_position": null,
            "order": null,
            "overflow": null,
            "overflow_x": null,
            "overflow_y": null,
            "padding": null,
            "right": null,
            "top": null,
            "visibility": null,
            "width": null
          }
        },
        "421dcbecc84f46b9b8f430fecab0012b": {
          "model_module": "@jupyter-widgets/controls",
          "model_name": "DescriptionStyleModel",
          "model_module_version": "1.5.0",
          "state": {
            "_model_module": "@jupyter-widgets/controls",
            "_model_module_version": "1.5.0",
            "_model_name": "DescriptionStyleModel",
            "_view_count": null,
            "_view_module": "@jupyter-widgets/base",
            "_view_module_version": "1.2.0",
            "_view_name": "StyleView",
            "description_width": ""
          }
        }
      }
    }
  },
  "cells": [
    {
      "cell_type": "markdown",
      "metadata": {
        "id": "view-in-github",
        "colab_type": "text"
      },
      "source": [
        "<a href=\"https://colab.research.google.com/github/MiladQolami/Neural-Data-Analysis/blob/main/SpikingVariablity/SpikingVariablity.ipynb\" target=\"_parent\"><img src=\"https://colab.research.google.com/assets/colab-badge.svg\" alt=\"Open In Colab\"/></a>"
      ]
    },
    {
      "cell_type": "markdown",
      "source": [
        "# ⭕ spiking variablity\n",
        "\n",
        "---\n",
        "\n",
        "\n",
        "\n",
        "\n",
        "\n",
        "\n",
        "\n",
        "\n",
        "\n"
      ],
      "metadata": {
        "id": "e8zLg6CRdkeE"
      }
    },
    {
      "cell_type": "markdown",
      "source": [
        "### Dataset:\n",
        "The data for this notebook comes from [Allen Institute's Visual Coding – Neuropixels project](https://allensdk.readthedocs.io/en/latest/visual_coding_neuropixels.html) which is an open dataset. In this project spikes were recorded from several regions of mouse brian. The dataset is huge so we just upload small proportion of it: spike form mouse V1 in response to full-field flashes of light/dark."
      ],
      "metadata": {
        "id": "st68qKvN7ne5"
      }
    },
    {
      "cell_type": "code",
      "source": [
        "# @markdown Install packages \n",
        "!pip install pip --upgrade --quiet\n",
        "!pip install allensdk --quiet"
      ],
      "metadata": {
        "cellView": "form",
        "id": "1gjHzAjjDyb_"
      },
      "execution_count": null,
      "outputs": []
    },
    {
      "cell_type": "code",
      "source": [
        "# @markdown  Import libraries\n",
        "\n",
        "# Import pachages\n",
        "import numpy as np\n",
        "import pandas as pd\n",
        "import matplotlib.pyplot as plt\n",
        "import os \n",
        "\n",
        "# Import EcephysProjectCache from allensdk\n",
        "from allensdk.brain_observatory.ecephys.ecephys_project_cache import EcephysProjectCache\n",
        "\n",
        "plt.rcParams['figure.figsize'] = [20,5]\n",
        "plt.rcParams['font.size'] = 15\n",
        "plt.rcParams['axes.spines.right'] = False\n",
        "plt.rcParams['axes.spines.top'] = False"
      ],
      "metadata": {
        "cellView": "form",
        "id": "YpEggdEy_PPb"
      },
      "execution_count": 1,
      "outputs": []
    },
    {
      "cell_type": "code",
      "source": [
        "dat_dir = '/sampl_data/allen_data'       # Create a directory for data on colab disk disk\n",
        "manifest_path = os.path.join(dat_dir,'manifest.json')\n",
        "\n",
        "cach = EcephysProjectCache.from_warehouse(manifest = manifest_path)"
      ],
      "metadata": {
        "id": "xBvhfqv0J13s"
      },
      "execution_count": 3,
      "outputs": []
    },
    {
      "cell_type": "code",
      "source": [
        "sessions = cach.get_session_table()    # Get the table of data information\n",
        "brain_observatory_type_sessions = sessions[sessions['session_type'] == 'brain_observatory_1.1'] # Pick those sessions where 'brain_observatory_1.1' sequence of stimuli where presented\n",
        "session_id = brain_observatory_type_sessions.index[12]      # Pick an arbitrary session id\n",
        "session_data = cach.get_session_data(session_id)\n"
      ],
      "metadata": {
        "colab": {
          "base_uri": "https://localhost:8080/",
          "height": 66,
          "referenced_widgets": [
            "53033b3b0c21455d9f44d3e8c4af9ca9",
            "e166bd7bfbeb4b4abf1cea3f64b5d033",
            "82473d6c94e449f5b991adf0c2e98063",
            "feef70227e28479386bf79eeaeb5a17e",
            "1dfb5ae396f54ebdaa1897d8a2b25617",
            "029d0b986a4843d68ee44d1d71c4bc57",
            "3a3418a12c7f4a789761caf03374d079",
            "bdd62904538d4381afa8a352ad545a83",
            "81e017241a67443e9a10a895e186b3b1",
            "433f42ffeecb4f8a936683c5b2f47aac",
            "421dcbecc84f46b9b8f430fecab0012b"
          ]
        },
        "id": "KCy-6O2fRjtN",
        "outputId": "4b71d66f-90bf-495c-d3c0-3929615bbcae"
      },
      "execution_count": 4,
      "outputs": [
        {
          "output_type": "stream",
          "name": "stderr",
          "text": [
            "WARNING:root:downloading a 2930.954MiB file from http://api.brain-map.org//api/v2/well_known_file_download/1026124863\n"
          ]
        },
        {
          "output_type": "display_data",
          "data": {
            "text/plain": [
              "Downloading:   0%|          | 0.00/3.07G [00:00<?, ?B/s]"
            ],
            "application/vnd.jupyter.widget-view+json": {
              "version_major": 2,
              "version_minor": 0,
              "model_id": "53033b3b0c21455d9f44d3e8c4af9ca9"
            }
          },
          "metadata": {}
        }
      ]
    },
    {
      "cell_type": "code",
      "source": [
        "VIsp_units = session_data.stimulus_names\n"
      ],
      "metadata": {
        "id": "-bIR3YFFW7KH"
      },
      "execution_count": null,
      "outputs": []
    },
    {
      "cell_type": "markdown",
      "source": [
        "## Irigularity of inter-spike-interval (ISI)"
      ],
      "metadata": {
        "id": "ywpBGO1iKiNJ"
      }
    },
    {
      "cell_type": "markdown",
      "source": [
        "\n",
        "## Trial-to-tiral variablity\n",
        "\n",
        "\n",
        "\n"
      ],
      "metadata": {
        "id": "Iy1LUEl1eOgO"
      }
    },
    {
      "cell_type": "markdown",
      "source": [
        "## Spike count corelation"
      ],
      "metadata": {
        "id": "Ljcyyo4oqlft"
      }
    }
  ]
}