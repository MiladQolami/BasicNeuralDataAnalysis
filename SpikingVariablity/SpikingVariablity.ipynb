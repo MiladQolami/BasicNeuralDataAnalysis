{
  "nbformat": 4,
  "nbformat_minor": 0,
  "metadata": {
    "colab": {
      "provenance": [],
      "authorship_tag": "ABX9TyP0TCL0ermjLv7ucEHE3dig",
      "include_colab_link": true
    },
    "kernelspec": {
      "name": "python3",
      "display_name": "Python 3"
    },
    "language_info": {
      "name": "python"
    }
  },
  "cells": [
    {
      "cell_type": "markdown",
      "metadata": {
        "id": "view-in-github",
        "colab_type": "text"
      },
      "source": [
        "<a href=\"https://colab.research.google.com/github/MiladQolami/Neural-Data-Analysis/blob/main/SpikingVariablity/SpikingVariablity.ipynb\" target=\"_parent\"><img src=\"https://colab.research.google.com/assets/colab-badge.svg\" alt=\"Open In Colab\"/></a>"
      ]
    },
    {
      "cell_type": "markdown",
      "source": [
        "# ⭕ spiking variablity\n",
        "\n",
        "---\n",
        "\n",
        "\n",
        "\n",
        "\n",
        "\n",
        "\n",
        "\n",
        "\n",
        "\n"
      ],
      "metadata": {
        "id": "e8zLg6CRdkeE"
      }
    },
    {
      "cell_type": "markdown",
      "source": [
        "### Dataset:\n",
        "The data for this notebook comes from [Allen Institute's Visual Coding – Neuropixels project](https://allensdk.readthedocs.io/en/latest/visual_coding_neuropixels.html) which is an open dataset. In this project spikes were recorded from several regions of mouse brian. The dataset is huge so we just upload small proportion of it: spike form mouse V1 in response to full-field flashes of light/dark."
      ],
      "metadata": {
        "id": "st68qKvN7ne5"
      }
    },
    {
      "cell_type": "code",
      "source": [
        "# @markdown Install packages and import libraries\n",
        "!pip install allensdk       # install allensdk, a module for\n",
        "                            # accessing and processing Allen institute datasets\n",
        "\n",
        "# Import pachages\n",
        "import numpy as np\n",
        "import pandas as pd\n",
        "import matplotlib.pyplot as plt\n",
        "import os \n",
        "\n",
        "# Import EcephysProjectCache from allensdk\n",
        "from allensdk.brain_observatory.ecephys.ecephys_project_cache import EcephysProjectCache\n",
        "\n"
      ],
      "metadata": {
        "id": "YpEggdEy_PPb"
      },
      "execution_count": null,
      "outputs": []
    },
    {
      "cell_type": "code",
      "source": [],
      "metadata": {
        "id": "xBvhfqv0J13s"
      },
      "execution_count": null,
      "outputs": []
    },
    {
      "cell_type": "code",
      "source": [],
      "metadata": {
        "id": "XsiWmyK0JkLL"
      },
      "execution_count": null,
      "outputs": []
    },
    {
      "cell_type": "markdown",
      "source": [
        "## Irigularity of inter-spike-interval (ISI)"
      ],
      "metadata": {
        "id": "ywpBGO1iKiNJ"
      }
    },
    {
      "cell_type": "markdown",
      "source": [
        "\n",
        "## Trial-to-tiral variablity\n",
        "\n",
        "\n",
        "\n"
      ],
      "metadata": {
        "id": "Iy1LUEl1eOgO"
      }
    },
    {
      "cell_type": "markdown",
      "source": [
        "## Spike count corelation"
      ],
      "metadata": {
        "id": "Ljcyyo4oqlft"
      }
    }
  ]
}