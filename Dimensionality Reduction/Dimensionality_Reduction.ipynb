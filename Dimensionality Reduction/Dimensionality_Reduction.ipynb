{
  "nbformat": 4,
  "nbformat_minor": 0,
  "metadata": {
    "colab": {
      "provenance": [],
      "authorship_tag": "ABX9TyNhrPvHLwyvI0NXMTx6FIdw",
      "include_colab_link": true
    },
    "kernelspec": {
      "name": "python3",
      "display_name": "Python 3"
    },
    "language_info": {
      "name": "python"
    }
  },
  "cells": [
    {
      "cell_type": "markdown",
      "metadata": {
        "id": "view-in-github",
        "colab_type": "text"
      },
      "source": [
        "<a href=\"https://colab.research.google.com/github/MiladQolami/Neural-Data-Analysis/blob/main/Dimensionality%20Reduction/Dimensionality_Reduction.ipynb\" target=\"_parent\"><img src=\"https://colab.research.google.com/assets/colab-badge.svg\" alt=\"Open In Colab\"/></a>"
      ]
    },
    {
      "cell_type": "markdown",
      "source": [
        "## **Why we need dimensionality reduction?**\n",
        "neurons are connected to each other and form networks in the brian which means each neuron can not act independently and its activity is somehow restricted by other neurons in the network. In other wrods the degree of freedom is reduced.\n"
      ],
      "metadata": {
        "id": "_csuI9xS1R0K"
      }
    }
  ]
}