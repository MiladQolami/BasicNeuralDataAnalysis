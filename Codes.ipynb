{
  "nbformat": 4,
  "nbformat_minor": 0,
  "metadata": {
    "colab": {
      "name": "Codes.ipynb",
      "provenance": [],
      "authorship_tag": "ABX9TyPlkjhqu1mes26B6O7PZ5FK",
      "include_colab_link": true
    },
    "kernelspec": {
      "name": "python3",
      "display_name": "Python 3"
    },
    "language_info": {
      "name": "python"
    }
  },
  "cells": [
    {
      "cell_type": "markdown",
      "metadata": {
        "id": "view-in-github",
        "colab_type": "text"
      },
      "source": [
        "<a href=\"https://colab.research.google.com/github/miladqolamee/MachineLearningUsingPython/blob/main/Codes.ipynb\" target=\"_parent\"><img src=\"https://colab.research.google.com/assets/colab-badge.svg\" alt=\"Open In Colab\"/></a>"
      ]
    },
    {
      "cell_type": "markdown",
      "source": [
        "# Support vector Machine"
      ],
      "metadata": {
        "id": "NVhbFcS0VtTi"
      }
    },
    {
      "cell_type": "markdown",
      "source": [
        "In this exercise support vector machine (SVM) will be used to classify data using `scikit-learn` toolbox.\n",
        "\n",
        "Briefly the job of a SVM classifier is to find a heyperplane that seperates data points in high dimensional space which is done by the help of support vectors, those datapoints that are at the margine of each class."
      ],
      "metadata": {
        "id": "elwG0p8iV6zS"
      }
    },
    {
      "cell_type": "code",
      "source": [
        "from sklearn import datasets\n",
        "from sklearn.model_selection import train_test_split\n",
        "from sklearn import svm \n",
        "from sklearn import metrics\n",
        "import numpy as np\n",
        "import pandas as pd\n"
      ],
      "metadata": {
        "id": "YEXDSAApbwH7"
      },
      "execution_count": 1,
      "outputs": []
    },
    {
      "cell_type": "markdown",
      "source": [
        "First Iris dataset will be loaded. This dataset contains 150 observation of 3 species of iris with four variables."
      ],
      "metadata": {
        "id": "y8HJhSBzcuu3"
      }
    },
    {
      "cell_type": "code",
      "source": [
        "iris = datasets.load_iris()\n",
        "iris.data       # observations \n",
        "iris.target     # numerial labels"
      ],
      "metadata": {
        "id": "IKYjtbaAdc8Q"
      },
      "execution_count": null,
      "outputs": []
    },
    {
      "cell_type": "markdown",
      "source": [
        "Then we need to split our dataset into train and test sets."
      ],
      "metadata": {
        "id": "BJ01vvbFh7RR"
      }
    },
    {
      "cell_type": "code",
      "source": [
        "X_train,X_test,Y_trian,Y_test = train_test_split(iris.data,iris.target,test_size=.2)"
      ],
      "metadata": {
        "id": "WUZh6FYViK1O"
      },
      "execution_count": null,
      "outputs": []
    },
    {
      "cell_type": "markdown",
      "source": [
        "Then we choose the model's class and fit the model"
      ],
      "metadata": {
        "id": "92AqOFCFjq4J"
      }
    },
    {
      "cell_type": "code",
      "source": [
        "svm_model = svm.SVC()\n",
        "svm_model.fit(X_train,Y_trian)"
      ],
      "metadata": {
        "id": "vYIGBE8Xj4iR"
      },
      "execution_count": null,
      "outputs": []
    },
    {
      "cell_type": "markdown",
      "source": [
        "Then we look at the predictions of our model_selection:"
      ],
      "metadata": {
        "id": "J3mjktRDkQOd"
      }
    },
    {
      "cell_type": "code",
      "source": [
        "svm_pred = svm_model.predict(X_test)"
      ],
      "metadata": {
        "id": "zrBtKcfPkcce"
      },
      "execution_count": 27,
      "outputs": []
    },
    {
      "cell_type": "code",
      "source": [
        "metrics.accuracy_score(Y_test,svm_pred)"
      ],
      "metadata": {
        "colab": {
          "base_uri": "https://localhost:8080/"
        },
        "id": "cIuTnPS4kzXk",
        "outputId": "8db7f680-2877-4e36-ad67-1251a0bf60f4"
      },
      "execution_count": 31,
      "outputs": [
        {
          "output_type": "execute_result",
          "data": {
            "text/plain": [
              "0.9666666666666667"
            ]
          },
          "metadata": {},
          "execution_count": 31
        }
      ]
    }
  ]
}